{
 "cells": [
  {
   "cell_type": "markdown",
   "id": "9a2349ab",
   "metadata": {},
   "source": [
    "# Reinforcement Learning para Trading - Explarando o yFinance.\n",
    "\n",
    "## Objetivo\n",
    "Entendimento de como usar o modulo yfinance e importar dados do tickers para exploração do mercado financeiro.\n"
   ]
  },
  {
   "cell_type": "code",
   "execution_count": 67,
   "id": "3951a56c",
   "metadata": {},
   "outputs": [],
   "source": [
    "import yfinance as yf\n",
    "import pandas as pd\n",
    "\n"
   ]
  },
  {
   "cell_type": "code",
   "execution_count": 68,
   "id": "8c145926",
   "metadata": {},
   "outputs": [
    {
     "name": "stdout",
     "output_type": "stream",
     "text": [
      "Ticker: PETR3.SA\n",
      "Name: Petróleo Brasileiro S.A. - Petrobras\n",
      "Sector: Energy\n",
      "Market Cap: 398814478336\n",
      "Ticker: PETR4.SA\n",
      "Name: Petróleo Brasileiro S.A. - Petrobras\n",
      "Sector: Energy\n",
      "Market Cap: 398814445568\n",
      "Ticker: PETR4.SA\n",
      "Name: Petróleo Brasileiro S.A. - Petrobras\n",
      "Sector: Energy\n",
      "Market Cap: 398814445568\n",
      "Ticker: VALE3.SA\n",
      "Name: Vale S.A.\n",
      "Sector: Basic Materials\n",
      "Market Cap: 263511703552\n",
      "Ticker: VALE3.SA\n",
      "Name: Vale S.A.\n",
      "Sector: Basic Materials\n",
      "Market Cap: 263511703552\n",
      "Ticker: BRFS3.SA\n",
      "Name: BRF S.A.\n",
      "Sector: Consumer Defensive\n",
      "Market Cap: 28579856384\n",
      "Ticker: BRFS3.SA\n",
      "Name: BRF S.A.\n",
      "Sector: Consumer Defensive\n",
      "Market Cap: 28579856384\n"
     ]
    }
   ],
   "source": [
    "#DFPETR4 = yf.Ticker(\"PETR4.SA\")\n",
    "#DFPETR3 = yf.Ticker(\"PETR3.SA\")\n",
    "#DFPETR3.history(period='1mo')\n",
    "\n",
    "tickersymbols = [\"PETR3.SA\", \"PETR4.SA\", \"VALE3.SA\", \"BRFS3.SA\"]\n",
    "tickers = yf.Tickers(\" \".join(tickersymbols))\n",
    "\n",
    "for symbol in tickersymbols:\n",
    "    info = tickers.tickers[symbol].info\n",
    "    print(f\"Ticker: {symbol}\")\n",
    "    print(f\"Name: {info.get('longName', 'N/A')}\")\n",
    "    print(f\"Sector: {info.get('sector', 'N/A')}\")\n",
    "    print(f\"Market Cap: {info.get('marketCap', 'N/A')}\")"
   ]
  },
  {
   "cell_type": "code",
   "execution_count": 69,
   "id": "ea677a8c",
   "metadata": {},
   "outputs": [],
   "source": [
    "# Get historical data for PETR3.SA\n",
    "DFPETR3 = pd.DataFrame(tickers.tickers[tickersymbols[0]].history(period='1y'))\n",
    "\n",
    "# Get historical data for PETR4.SA\n",
    "DFPETR4 = pd.DataFrame(tickers.tickers[tickersymbols[1]].history(period='1y'))  \n",
    "\n",
    "# Get historical data for VALE3.SA\n",
    "DFVALE3 = pd.DataFrame(tickers.tickers[tickersymbols[2]].history(period='1y'))\n",
    "\n",
    "# Get historical data for BRFS3.SA\n",
    "DFBRFS3 = pd.DataFrame(tickers.tickers[tickersymbols[3]].history(period='1y'))"
   ]
  },
  {
   "cell_type": "code",
   "execution_count": 70,
   "id": "533ee9bc",
   "metadata": {},
   "outputs": [
    {
     "data": {
      "application/vnd.microsoft.datawrangler.viewer.v0+json": {
       "columns": [
        {
         "name": "Date",
         "rawType": "datetime64[ns, America/Sao_Paulo]",
         "type": "unknown"
        },
        {
         "name": "Open",
         "rawType": "float64",
         "type": "float"
        },
        {
         "name": "High",
         "rawType": "float64",
         "type": "float"
        },
        {
         "name": "Low",
         "rawType": "float64",
         "type": "float"
        },
        {
         "name": "Close",
         "rawType": "float64",
         "type": "float"
        },
        {
         "name": "Volume",
         "rawType": "int64",
         "type": "integer"
        },
        {
         "name": "Dividends",
         "rawType": "float64",
         "type": "float"
        },
        {
         "name": "Stock Splits",
         "rawType": "float64",
         "type": "float"
        }
       ],
       "ref": "55f02398-74a5-488d-90f7-61e5e4e63e47",
       "rows": [
        [
         "2024-10-24 00:00:00-03:00",
         "33.834328306687986",
         "33.93843300560699",
         "33.59141623940074",
         "33.84300231933594",
         "7272300",
         "0.0",
         "0.0"
        ],
        [
         "2024-10-25 00:00:00-03:00",
         "33.843000845062626",
         "34.37220494810975",
         "33.825652820522436",
         "34.18134689331055",
         "7829100",
         "0.0",
         "0.0"
        ],
        [
         "2024-10-28 00:00:00-03:00",
         "33.55671283002956",
         "34.16399629428584",
         "33.374528783581276",
         "34.111942291259766",
         "5792000",
         "0.0",
         "0.0"
        ],
        [
         "2024-10-29 00:00:00-03:00",
         "34.28545568250039",
         "34.35485771723573",
         "33.929761567230756",
         "34.02519226074219",
         "4782500",
         "0.0",
         "0.0"
        ],
        [
         "2024-10-30 00:00:00-03:00",
         "34.10326618657337",
         "34.33750422167727",
         "33.70419214004723",
         "33.730220794677734",
         "7560600",
         "0.0",
         "0.0"
        ]
       ],
       "shape": {
        "columns": 7,
        "rows": 5
       }
      },
      "text/html": [
       "<div>\n",
       "<style scoped>\n",
       "    .dataframe tbody tr th:only-of-type {\n",
       "        vertical-align: middle;\n",
       "    }\n",
       "\n",
       "    .dataframe tbody tr th {\n",
       "        vertical-align: top;\n",
       "    }\n",
       "\n",
       "    .dataframe thead th {\n",
       "        text-align: right;\n",
       "    }\n",
       "</style>\n",
       "<table border=\"1\" class=\"dataframe\">\n",
       "  <thead>\n",
       "    <tr style=\"text-align: right;\">\n",
       "      <th></th>\n",
       "      <th>Open</th>\n",
       "      <th>High</th>\n",
       "      <th>Low</th>\n",
       "      <th>Close</th>\n",
       "      <th>Volume</th>\n",
       "      <th>Dividends</th>\n",
       "      <th>Stock Splits</th>\n",
       "    </tr>\n",
       "    <tr>\n",
       "      <th>Date</th>\n",
       "      <th></th>\n",
       "      <th></th>\n",
       "      <th></th>\n",
       "      <th></th>\n",
       "      <th></th>\n",
       "      <th></th>\n",
       "      <th></th>\n",
       "    </tr>\n",
       "  </thead>\n",
       "  <tbody>\n",
       "    <tr>\n",
       "      <th>2024-10-24 00:00:00-03:00</th>\n",
       "      <td>33.834328</td>\n",
       "      <td>33.938433</td>\n",
       "      <td>33.591416</td>\n",
       "      <td>33.843002</td>\n",
       "      <td>7272300</td>\n",
       "      <td>0.0</td>\n",
       "      <td>0.0</td>\n",
       "    </tr>\n",
       "    <tr>\n",
       "      <th>2024-10-25 00:00:00-03:00</th>\n",
       "      <td>33.843001</td>\n",
       "      <td>34.372205</td>\n",
       "      <td>33.825653</td>\n",
       "      <td>34.181347</td>\n",
       "      <td>7829100</td>\n",
       "      <td>0.0</td>\n",
       "      <td>0.0</td>\n",
       "    </tr>\n",
       "    <tr>\n",
       "      <th>2024-10-28 00:00:00-03:00</th>\n",
       "      <td>33.556713</td>\n",
       "      <td>34.163996</td>\n",
       "      <td>33.374529</td>\n",
       "      <td>34.111942</td>\n",
       "      <td>5792000</td>\n",
       "      <td>0.0</td>\n",
       "      <td>0.0</td>\n",
       "    </tr>\n",
       "    <tr>\n",
       "      <th>2024-10-29 00:00:00-03:00</th>\n",
       "      <td>34.285456</td>\n",
       "      <td>34.354858</td>\n",
       "      <td>33.929762</td>\n",
       "      <td>34.025192</td>\n",
       "      <td>4782500</td>\n",
       "      <td>0.0</td>\n",
       "      <td>0.0</td>\n",
       "    </tr>\n",
       "    <tr>\n",
       "      <th>2024-10-30 00:00:00-03:00</th>\n",
       "      <td>34.103266</td>\n",
       "      <td>34.337504</td>\n",
       "      <td>33.704192</td>\n",
       "      <td>33.730221</td>\n",
       "      <td>7560600</td>\n",
       "      <td>0.0</td>\n",
       "      <td>0.0</td>\n",
       "    </tr>\n",
       "  </tbody>\n",
       "</table>\n",
       "</div>"
      ],
      "text/plain": [
       "                                Open       High        Low      Close  \\\n",
       "Date                                                                    \n",
       "2024-10-24 00:00:00-03:00  33.834328  33.938433  33.591416  33.843002   \n",
       "2024-10-25 00:00:00-03:00  33.843001  34.372205  33.825653  34.181347   \n",
       "2024-10-28 00:00:00-03:00  33.556713  34.163996  33.374529  34.111942   \n",
       "2024-10-29 00:00:00-03:00  34.285456  34.354858  33.929762  34.025192   \n",
       "2024-10-30 00:00:00-03:00  34.103266  34.337504  33.704192  33.730221   \n",
       "\n",
       "                            Volume  Dividends  Stock Splits  \n",
       "Date                                                         \n",
       "2024-10-24 00:00:00-03:00  7272300        0.0           0.0  \n",
       "2024-10-25 00:00:00-03:00  7829100        0.0           0.0  \n",
       "2024-10-28 00:00:00-03:00  5792000        0.0           0.0  \n",
       "2024-10-29 00:00:00-03:00  4782500        0.0           0.0  \n",
       "2024-10-30 00:00:00-03:00  7560600        0.0           0.0  "
      ]
     },
     "execution_count": 70,
     "metadata": {},
     "output_type": "execute_result"
    }
   ],
   "source": [
    "DFPETR3.head()"
   ]
  },
  {
   "cell_type": "code",
   "execution_count": 71,
   "id": "e63e3056",
   "metadata": {},
   "outputs": [
    {
     "name": "stdout",
     "output_type": "stream",
     "text": [
      "<class 'pandas.core.frame.DataFrame'>\n",
      "DatetimeIndex: 250 entries, 2024-10-24 00:00:00-03:00 to 2025-10-24 00:00:00-03:00\n",
      "Data columns (total 7 columns):\n",
      " #   Column        Non-Null Count  Dtype  \n",
      "---  ------        --------------  -----  \n",
      " 0   Open          250 non-null    float64\n",
      " 1   High          250 non-null    float64\n",
      " 2   Low           250 non-null    float64\n",
      " 3   Close         250 non-null    float64\n",
      " 4   Volume        250 non-null    int64  \n",
      " 5   Dividends     250 non-null    float64\n",
      " 6   Stock Splits  250 non-null    float64\n",
      "dtypes: float64(6), int64(1)\n",
      "memory usage: 15.6 KB\n"
     ]
    }
   ],
   "source": [
    "DFPETR3.info()"
   ]
  },
  {
   "cell_type": "markdown",
   "id": "0ecedc53",
   "metadata": {},
   "source": [
    "# - Reinforcement Learning para Trading PETR3\n",
    "\n",
    "## Estratégia: Metodológica e Estruturada (Estilo Original)\n",
    "\n",
    "### Introdução\n",
    "- **Preparação meticulosa**: Base teórica sólida seguindo padrões das aulas\n",
    "- **Abordagem conservadora**: Implementação tradicional e confiável\n",
    "- **Metodologia comprovada**: Código limpo e bem estruturado\n",
    "- **Foco pedagógico**: Prioriza entendimento dos fundamentos\n",
    "\n",
    "### Objetivo\n",
    "Criar um agente de RL para automatizar decisões de trading da Petrobras (PETR3) com base em dados históricos.\n",
    "\n",
    "### Componentes do Sistema RL:\n",
    "1. **Preparação dos Dados** - Usar preço de fechamento\n",
    "2. **Definição do Estado** - Preço atual + janela histórica\n",
    "3. **Definição das Ações** - Comprar (1), Vender (-1), Hold (0)\n",
    "4. **Ambiente Básico** - Simulação simples com capital inicial"
   ]
  },
  {
   "cell_type": "markdown",
   "id": "25ce3ed0",
   "metadata": {},
   "source": [
    "## PASSO 1: Preparação dos Dados\n",
    "Vamos preparar os dados do PETR3 para o ambiente de RL, focando no preço de fechamento."
   ]
  },
  {
   "cell_type": "code",
   "execution_count": 72,
   "id": "b7eeb03c",
   "metadata": {},
   "outputs": [
    {
     "name": "stdout",
     "output_type": "stream",
     "text": [
      "Dados de preços: 250 dias\n",
      "Primeiro preço: R$ 33.84\n",
      "Último preço: R$ 31.75\n",
      "Preço mínimo: R$ 30.26\n",
      "Preço máximo: R$ 39.56\n"
     ]
    }
   ],
   "source": [
    "# PASSO 1: Preparação dos Dados - Usando apenas preço de fechamento\n",
    "import numpy as np\n",
    "\n",
    "# Extrair apenas os preços de fechamento\n",
    "prices = DFPETR3['Close'].values\n",
    "print(f\"Dados de preços: {len(prices)} dias\")\n",
    "print(f\"Primeiro preço: R$ {prices[0]:.2f}\")\n",
    "print(f\"Último preço: R$ {prices[-1]:.2f}\")\n",
    "print(f\"Preço mínimo: R$ {prices.min():.2f}\")\n",
    "print(f\"Preço máximo: R$ {prices.max():.2f}\")"
   ]
  },
  {
   "cell_type": "markdown",
   "id": "ada75537",
   "metadata": {},
   "source": [
    "## PASSO 2: Definição do Estado (State Space)\n",
    "O estado será uma janela dos últimos preços para que o agente possa \"ver\" o histórico recente."
   ]
  },
  {
   "cell_type": "code",
   "execution_count": 73,
   "id": "cec5debb",
   "metadata": {},
   "outputs": [
    {
     "name": "stdout",
     "output_type": "stream",
     "text": [
      "Estado no dia 10: [0.99791556 0.99895766 0.99400719 0.99296509 1.        ]\n",
      "Preço atual (dia 10): R$ 33.30\n"
     ]
    }
   ],
   "source": [
    "# PASSO 2: Definição do Estado - Janela de preços históricos\n",
    "WINDOW_SIZE = 5  # Janela de 5 dias para simplificar\n",
    "\n",
    "def create_state(prices, current_index, window_size=WINDOW_SIZE):\n",
    "    \"\"\"Cria o estado atual baseado em uma janela de preços históricos\"\"\"\n",
    "    if current_index < window_size:\n",
    "        # Para os primeiros dias, preencher com o primeiro preço\n",
    "        state = np.full(window_size, prices[0])\n",
    "        state[-current_index-1:] = prices[:current_index+1]\n",
    "    else:\n",
    "        # Janela normal de preços\n",
    "        state = prices[current_index-window_size+1:current_index+1]\n",
    "    \n",
    "    # Normalizar os preços (dividir pelo preço atual)\n",
    "    current_price = prices[current_index]\n",
    "    normalized_state = state / current_price\n",
    "    \n",
    "    return normalized_state\n",
    "\n",
    "# Teste do estado\n",
    "test_index = 10\n",
    "test_state = create_state(prices, test_index)\n",
    "print(f\"Estado no dia {test_index}: {test_state}\")\n",
    "print(f\"Preço atual (dia {test_index}): R$ {prices[test_index]:.2f}\")"
   ]
  },
  {
   "cell_type": "markdown",
   "id": "4ae0da83",
   "metadata": {},
   "source": [
    "## PASSO 3: Definição das Ações (Action Space)\n",
    "O agente pode tomar 3 ações básicas: Comprar, Vender ou Manter posição."
   ]
  },
  {
   "cell_type": "code",
   "execution_count": 74,
   "id": "6f8319fb",
   "metadata": {},
   "outputs": [
    {
     "name": "stdout",
     "output_type": "stream",
     "text": [
      "Ações disponíveis para o agente:\n",
      "  0: HOLD\n",
      "  1: BUY\n",
      "  2: SELL\n"
     ]
    }
   ],
   "source": [
    "# PASSO 3: Definição das Ações\n",
    "# 0 = Hold (manter posição)\n",
    "# 1 = Buy (comprar)  \n",
    "# 2 = Sell (vender)\n",
    "\n",
    "ACTION_HOLD = 0\n",
    "ACTION_BUY = 1  \n",
    "ACTION_SELL = 2\n",
    "\n",
    "# Mapeamento para interpretação\n",
    "ACTION_NAMES = {\n",
    "    0: \"HOLD\",\n",
    "    1: \"BUY\", \n",
    "    2: \"SELL\"\n",
    "}\n",
    "\n",
    "print(\"Ações disponíveis para o agente:\")\n",
    "for action, name in ACTION_NAMES.items():\n",
    "    print(f\"  {action}: {name}\")\n",
    "    \n",
    "# Função para converter ação em texto\n",
    "def action_to_text(action):\n",
    "    return ACTION_NAMES.get(action, \"UNKNOWN\")"
   ]
  },
  {
   "cell_type": "markdown",
   "id": "579f1732",
   "metadata": {},
   "source": [
    "## PASSO 4: Ambiente Básico de Trading\n",
    "Vamos criar um ambiente simples que simula um portfólio com capital inicial."
   ]
  },
  {
   "cell_type": "code",
   "execution_count": 75,
   "id": "32928861",
   "metadata": {},
   "outputs": [
    {
     "name": "stdout",
     "output_type": "stream",
     "text": [
      "Ambiente criado com sucesso!\n",
      "Capital inicial: R$ 10,000.00\n",
      "Preços disponíveis: 250 dias\n"
     ]
    }
   ],
   "source": [
    "# PASSO 4: Ambiente Básico de Trading\n",
    "class SimpleTradingEnvironment:\n",
    "    def __init__(self, prices, initial_capital=10000.0):\n",
    "        self.prices = prices\n",
    "        self.initial_capital = initial_capital\n",
    "        self.reset()\n",
    "    \n",
    "    def reset(self):\n",
    "        \"\"\"Reinicia o ambiente\"\"\"\n",
    "        self.current_step = WINDOW_SIZE  # Começar após a janela inicial\n",
    "        self.cash = self.initial_capital\n",
    "        self.shares = 0\n",
    "        self.portfolio_values = []\n",
    "        return self.get_state()\n",
    "    \n",
    "    def get_state(self):\n",
    "        \"\"\"Retorna o estado atual\"\"\"\n",
    "        return create_state(self.prices, self.current_step)\n",
    "    \n",
    "    def get_portfolio_value(self):\n",
    "        \"\"\"Calcula o valor total do portfólio\"\"\"\n",
    "        current_price = self.prices[self.current_step]\n",
    "        return self.cash + (self.shares * current_price)\n",
    "    \n",
    "    def step(self, action):\n",
    "        \"\"\"Executa uma ação e retorna (next_state, reward, done, info)\"\"\"\n",
    "        current_price = self.prices[self.current_step]\n",
    "        \n",
    "        # Executar a ação\n",
    "        if action == ACTION_BUY and self.cash >= current_price:\n",
    "            # Comprar uma ação\n",
    "            self.shares += 1\n",
    "            self.cash -= current_price\n",
    "            \n",
    "        elif action == ACTION_SELL and self.shares > 0:\n",
    "            # Vender uma ação\n",
    "            self.shares -= 1\n",
    "            self.cash += current_price\n",
    "        \n",
    "        # (ACTION_HOLD não faz nada)\n",
    "        \n",
    "        # Calcular recompensa (mudança no valor do portfólio)\n",
    "        portfolio_value = self.get_portfolio_value()\n",
    "        self.portfolio_values.append(portfolio_value)\n",
    "        \n",
    "        if len(self.portfolio_values) > 1:\n",
    "            reward = portfolio_value - self.portfolio_values[-2]\n",
    "        else:\n",
    "            reward = 0\n",
    "        \n",
    "        # Avançar para o próximo dia\n",
    "        self.current_step += 1\n",
    "        done = self.current_step >= len(self.prices) - 1\n",
    "        \n",
    "        next_state = self.get_state() if not done else None\n",
    "        \n",
    "        info = {\n",
    "            'cash': self.cash,\n",
    "            'shares': self.shares,\n",
    "            'portfolio_value': portfolio_value,\n",
    "            'current_price': current_price\n",
    "        }\n",
    "        \n",
    "        return next_state, reward, done, info\n",
    "\n",
    "# Criar o ambiente\n",
    "env = SimpleTradingEnvironment(prices)\n",
    "print(\"Ambiente criado com sucesso!\")\n",
    "print(f\"Capital inicial: R$ {env.initial_capital:,.2f}\")\n",
    "print(f\"Preços disponíveis: {len(prices)} dias\")"
   ]
  },
  {
   "cell_type": "markdown",
   "id": "84661a8f",
   "metadata": {},
   "source": [
    "## Teste do Ambiente\n",
    "Vamos testar o ambiente com algumas ações manuais para verificar se está funcionando."
   ]
  },
  {
   "cell_type": "code",
   "execution_count": 76,
   "id": "b9d10a33",
   "metadata": {},
   "outputs": [
    {
     "name": "stdout",
     "output_type": "stream",
     "text": [
      "=== TESTE DO AMBIENTE ===\n",
      "Estado inicial: [1.00870449 1.00665634 1.00409631 0.99539159 1.        ]\n",
      "Cash inicial: R$ 10,000.00\n",
      "Ações iniciais: 0\n",
      "Valor portfólio inicial: R$ 10,000.00\n",
      "\n",
      "--- Passo 1: BUY ---\n",
      "Reward: R$ +0.00\n",
      "Cash: R$ 9,966.11\n",
      "Ações: 1\n",
      "Preço atual: R$ 33.89\n",
      "Valor portfólio: R$ 10,000.00\n",
      "\n",
      "--- Passo 2: BUY ---\n",
      "Reward: R$ -0.66\n",
      "Cash: R$ 9,932.89\n",
      "Ações: 2\n",
      "Preço atual: R$ 33.23\n",
      "Valor portfólio: R$ 9,999.34\n",
      "\n",
      "--- Passo 3: HOLD ---\n",
      "Reward: R$ +0.07\n",
      "Cash: R$ 9,932.89\n",
      "Ações: 2\n",
      "Preço atual: R$ 33.26\n",
      "Valor portfólio: R$ 9,999.41\n",
      "\n",
      "--- Passo 4: SELL ---\n",
      "Reward: R$ -0.33\n",
      "Cash: R$ 9,965.98\n",
      "Ações: 1\n",
      "Preço atual: R$ 33.10\n",
      "Valor portfólio: R$ 9,999.08\n",
      "\n",
      "--- Passo 5: HOLD ---\n",
      "Reward: R$ -0.03\n",
      "Cash: R$ 9,965.98\n",
      "Ações: 1\n",
      "Preço atual: R$ 33.06\n",
      "Valor portfólio: R$ 9,999.05\n",
      "\n",
      "=== TESTE CONCLUÍDO ===\n",
      "Capital inicial: R$ 10,000.00\n",
      "Valor final: R$ 9,999.28\n",
      "Lucro/Prejuízo: R$ -0.72\n"
     ]
    }
   ],
   "source": [
    "# Teste do Ambiente - Simulação de algumas ações\n",
    "env_test = SimpleTradingEnvironment(prices)\n",
    "state = env_test.reset()\n",
    "\n",
    "print(\"=== TESTE DO AMBIENTE ===\")\n",
    "print(f\"Estado inicial: {state}\")\n",
    "print(f\"Cash inicial: R$ {env_test.cash:,.2f}\")\n",
    "print(f\"Ações iniciais: {env_test.shares}\")\n",
    "print(f\"Valor portfólio inicial: R$ {env_test.get_portfolio_value():,.2f}\")\n",
    "print()\n",
    "\n",
    "# Simular 5 ações\n",
    "test_actions = [ACTION_BUY, ACTION_BUY, ACTION_HOLD, ACTION_SELL, ACTION_HOLD]\n",
    "\n",
    "for i, action in enumerate(test_actions):\n",
    "    print(f\"--- Passo {i+1}: {action_to_text(action)} ---\")\n",
    "    next_state, reward, done, info = env_test.step(action)\n",
    "    \n",
    "    print(f\"Reward: R$ {reward:+.2f}\")\n",
    "    print(f\"Cash: R$ {info['cash']:,.2f}\")\n",
    "    print(f\"Ações: {info['shares']}\")\n",
    "    print(f\"Preço atual: R$ {info['current_price']:.2f}\")\n",
    "    print(f\"Valor portfólio: R$ {info['portfolio_value']:,.2f}\")\n",
    "    print()\n",
    "    \n",
    "    if done:\n",
    "        print(\"Simulação terminada!\")\n",
    "        break\n",
    "\n",
    "print(\"=== TESTE CONCLUÍDO ===\")\n",
    "print(f\"Capital inicial: R$ {env_test.initial_capital:,.2f}\")\n",
    "print(f\"Valor final: R$ {env_test.get_portfolio_value():,.2f}\")\n",
    "print(f\"Lucro/Prejuízo: R$ {env_test.get_portfolio_value() - env_test.initial_capital:+,.2f}\")"
   ]
  }
 ],
 "metadata": {
  "kernelspec": {
   "display_name": "venv",
   "language": "python",
   "name": "python3"
  },
  "language_info": {
   "codemirror_mode": {
    "name": "ipython",
    "version": 3
   },
   "file_extension": ".py",
   "mimetype": "text/x-python",
   "name": "python",
   "nbconvert_exporter": "python",
   "pygments_lexer": "ipython3",
   "version": "3.10.12"
  }
 },
 "nbformat": 4,
 "nbformat_minor": 5
}
