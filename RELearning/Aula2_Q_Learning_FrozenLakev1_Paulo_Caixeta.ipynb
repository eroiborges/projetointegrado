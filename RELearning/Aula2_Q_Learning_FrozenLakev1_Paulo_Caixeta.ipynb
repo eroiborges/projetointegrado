{
  "nbformat": 4,
  "nbformat_minor": 0,
  "metadata": {
    "colab": {
      "provenance": [],
      "gpuType": "T4"
    },
    "kernelspec": {
      "name": "python3",
      "display_name": "Python 3"
    },
    "accelerator": "GPU"
  },
  "cells": [
    {
      "cell_type": "markdown",
      "source": [
        "# Aula 2 - Reinforcement Learning\n",
        "\n",
        "## Tutorial: Q Learning no ambiente FrozenLake\n",
        "\n",
        "### Prof. Paulo Caixeta (profpaulo.oliveria@fiap.com.br)\n",
        "\n",
        "Agradecimentos: Prof. Ahirton"
      ],
      "metadata": {
        "id": "9dudH0A8tzHW"
      }
    },
    {
      "metadata": {
        "id": "5aQKQMJTJBPH"
      },
      "cell_type": "markdown",
      "source": [
        "# Q* Learning com FrozenLake 4x4\n",
        "\n",
        "Neste Notebook, implementaremos um agente <b>que reproduz o desafio FrozenLake.</b>\n",
        "\n",
        "![texto alternativo](https://www.gymlibrary.dev/_images/frozen_lake.gif)\n",
        "\n",
        "O objetivo deste jogo é <b>passar do estado inicial (S) para o estado objetivo (G)</b> andando apenas sobre peças congeladas (F) e evitando buracos (H). No entanto, o gelo é escorregadio, **então você nem sempre se moverá na direção pretendida (ambiente estocástico)**"
      ]
    },
    {
      "metadata": {
        "id": "QK8fD0zAQkkg"
      },
      "cell_type": "markdown",
      "source": [
        "## Pré-requisitos\n",
        "\n",
        "Antes de começarmos, **você precisa entender**:\n",
        "- Os fundamentos da aprendizagem por reforço\n",
        "- Q-learning"
      ]
    },
    {
      "metadata": {
        "id": "54AIvDov_7aa"
      },
      "cell_type": "markdown",
      "source": [
        "## Etapa 1: Instalando as dependências no Google Colab"
      ]
    },
    {
      "metadata": {
        "id": "gxxpHDIs_lvg",
        "colab": {
          "base_uri": "https://localhost:8080/"
        },
        "outputId": "e4d7d83f-010e-4e64-a3f6-71c409c1909f"
      },
      "cell_type": "code",
      "source": [
        "!pip install gymnasium\n",
        "!pip install numpy"
      ],
      "execution_count": 1,
      "outputs": [
        {
          "output_type": "stream",
          "name": "stdout",
          "text": [
            "Requirement already satisfied: gymnasium in /usr/local/lib/python3.12/dist-packages (1.2.1)\n",
            "Requirement already satisfied: numpy>=1.21.0 in /usr/local/lib/python3.12/dist-packages (from gymnasium) (2.0.2)\n",
            "Requirement already satisfied: cloudpickle>=1.2.0 in /usr/local/lib/python3.12/dist-packages (from gymnasium) (3.1.1)\n",
            "Requirement already satisfied: typing-extensions>=4.3.0 in /usr/local/lib/python3.12/dist-packages (from gymnasium) (4.15.0)\n",
            "Requirement already satisfied: farama-notifications>=0.0.1 in /usr/local/lib/python3.12/dist-packages (from gymnasium) (0.0.4)\n",
            "Requirement already satisfied: numpy in /usr/local/lib/python3.12/dist-packages (2.0.2)\n"
          ]
        }
      ]
    },
    {
      "metadata": {
        "id": "G9qH33L_QoBk"
      },
      "cell_type": "markdown",
      "source": [
        "## Preparação: Importando as bilbiotecas\n",
        "\n",
        "Usamos 3 bibliotecas:\n",
        "\n",
        "- `Numpy` para nosso Qtable\n",
        "- `Gymnasium` para nosso ambiente FrozenLake\n",
        "- `Random` para gerar números aleatórios\n",
        "- `Time` para pausarmos a visualização\n",
        "- `dusplay` para ver o jogo!"
      ]
    },
    {
      "metadata": {
        "id": "oU8zRXv8QHlm"
      },
      "cell_type": "code",
      "source": [
        "import numpy as np\n",
        "import gymnasium as gym\n",
        "import random\n",
        "import time\n",
        "from IPython.display import clear_output"
      ],
      "execution_count": 18,
      "outputs": []
    },
    {
      "metadata": {
        "id": "0fz-X3HTQueX"
      },
      "cell_type": "markdown",
      "source": [
        "## Passo 1: Criando o ambiente\n",
        "\n",
        "- Aqui criaremos o ambiente *FrozenLake* 4x4.\n",
        "- *Gymnasium* é uma biblioteca <b> composta por diversos ambientes que podemos usar para treinar nossos agentes.</b>"
      ]
    },
    {
      "metadata": {
        "id": "mh9jBR_cQ5_a"
      },
      "cell_type": "code",
      "source": [
        "env = gym.make(\"FrozenLake-v1\", desc=None, map_name=\"4x4\", is_slippery=True, render_mode=\"ansi\")"
      ],
      "execution_count": 14,
      "outputs": []
    },
    {
      "metadata": {
        "id": "JEtXMldxQ7uw"
      },
      "cell_type": "markdown",
      "source": [
        "## Etapa 2: Criando a tabela Q\n",
        "\n",
        "- Agora, vamos criar nossa Q-table, para saber de quantas linhas (estados) e colunas (ações) precisamos, precisamos calcular o action_size e o state_size\n",
        "- Gymnasium nos fornece uma maneira de fazer isso: `env.action_space.n` e `env.observation_space.n`"
      ]
    },
    {
      "metadata": {
        "id": "Uc0xDVd_Q-C8"
      },
      "cell_type": "code",
      "source": [
        "action_size = env.action_space.n\n",
        "state_size = env.observation_space.n"
      ],
      "execution_count": 5,
      "outputs": []
    },
    {
      "metadata": {
        "id": "17XBPCecAsZG",
        "colab": {
          "base_uri": "https://localhost:8080/"
        },
        "outputId": "4fd25145-8b97-4ce3-e4d3-651d98bf0906"
      },
      "cell_type": "code",
      "source": [
        "# Criando a tabela-Q zerada (64x4)\n",
        "qtable = np.zeros((state_size, action_size))\n",
        "print(qtable)"
      ],
      "execution_count": 6,
      "outputs": [
        {
          "output_type": "stream",
          "name": "stdout",
          "text": [
            "[[0. 0. 0. 0.]\n",
            " [0. 0. 0. 0.]\n",
            " [0. 0. 0. 0.]\n",
            " [0. 0. 0. 0.]\n",
            " [0. 0. 0. 0.]\n",
            " [0. 0. 0. 0.]\n",
            " [0. 0. 0. 0.]\n",
            " [0. 0. 0. 0.]\n",
            " [0. 0. 0. 0.]\n",
            " [0. 0. 0. 0.]\n",
            " [0. 0. 0. 0.]\n",
            " [0. 0. 0. 0.]\n",
            " [0. 0. 0. 0.]\n",
            " [0. 0. 0. 0.]\n",
            " [0. 0. 0. 0.]\n",
            " [0. 0. 0. 0.]]\n"
          ]
        }
      ]
    },
    {
      "metadata": {
        "id": "WEGeWKKsAu7X"
      },
      "cell_type": "markdown",
      "source": [
        "## Etapa 3: Criando os hiperparâmetros"
      ]
    },
    {
      "metadata": {
        "id": "FJhPxx7UAunE"
      },
      "cell_type": "code",
      "source": [
        "total_episodes = 500         # Total episodes\n",
        "learning_rate = 0.7          # Learning rate\n",
        "max_steps = 99               # Max steps per episode\n",
        "gamma = 0.95                 # Discounting rate\n",
        "\n",
        "# Exploration parameters\n",
        "epsilon = 1.0                 # Exploration rate\n",
        "max_epsilon = 1.0             # Exploration probability at start\n",
        "min_epsilon = 0.01            # Minimum exploration probability\n",
        "decay_rate = 0.005            # Exponential decay rate for exploration prob"
      ],
      "execution_count": 7,
      "outputs": []
    },
    {
      "metadata": {
        "id": "rcdaN_DbA3ES"
      },
      "cell_type": "markdown",
      "source": [
        "\n",
        "![texto alternativo](https://miro.medium.com/v2/resize:fit:1400/1*tyIE_430xbBRzrrjUdYLQw.png)\n"
      ]
    },
    {
      "cell_type": "markdown",
      "source": [
        "## Etapa 4: Implementando o algoritmo de Q-learning\n"
      ],
      "metadata": {
        "id": "MwoFMGHxfJI2"
      }
    },
    {
      "metadata": {
        "id": "5Dqqo_8LA5De",
        "colab": {
          "base_uri": "https://localhost:8080/"
        },
        "outputId": "b847ce28-ce07-4914-dfe6-2c5d00bd864d"
      },
      "cell_type": "code",
      "source": [
        "# List of rewards\n",
        "rewards = []\n",
        "\n",
        "# 2 For life or until learning is stopped\n",
        "for episode in range(total_episodes):\n",
        "    if episode %50 == 0: #a cada 50 episódeos:\n",
        "      print(\"Episódio:\",episode)\n",
        "    # Reset the environment\n",
        "    state, _ = env.reset()\n",
        "    state = int(state)\n",
        "    step = 0\n",
        "    done = False\n",
        "    total_rewards = 0\n",
        "\n",
        "    for step in range(max_steps):\n",
        "        # 3. Choose an action a in the current world state (s)\n",
        "        ## First we randomize a number\n",
        "        exp_exp_tradeoff = random.uniform(0, 1)\n",
        "\n",
        "        ## If this number > greater than epsilon --> exploitation (taking the biggest Q value for this state)\n",
        "        if exp_exp_tradeoff > epsilon:\n",
        "            action = np.argmax(qtable[state,:])\n",
        "            #print(exp_exp_tradeoff, \"action\", action)\n",
        "\n",
        "        # Else doing a random choice --> exploration\n",
        "        else:\n",
        "            action = env.action_space.sample()\n",
        "            #print(\"action random\", action)\n",
        "\n",
        "\n",
        "        # Take the action (a) and observe the outcome state(s') and reward (r)\n",
        "        new_state, reward, terminated, truncated, _ = env.step(action)\n",
        "        done = terminated or truncated\n",
        "\n",
        "        # Update Q(s,a):= Q(s,a) + lr [R(s,a) + gamma * max Q(s',a') - Q(s,a)]\n",
        "        # qtable[new_state,:] : all the actions we can take from new state\n",
        "        qtable[state, action] = qtable[state, action] + learning_rate * (reward + gamma * np.max(qtable[new_state, :]) - qtable[state, action])\n",
        "\n",
        "        total_rewards += reward\n",
        "\n",
        "        # Our new state is state\n",
        "        state = new_state\n",
        "\n",
        "        # If done (if we're dead) : finish episode\n",
        "        if done:\n",
        "            break\n",
        "\n",
        "    # Reduce epsilon (because we need less and less exploration)\n",
        "    epsilon = min_epsilon + (max_epsilon - min_epsilon)*np.exp(-decay_rate*episode)\n",
        "    rewards.append(total_rewards)\n",
        "\n",
        "\n",
        "print (\"Pontuação no tempo: \" +  str(sum(rewards)/total_episodes))\n",
        "print(qtable)"
      ],
      "execution_count": 11,
      "outputs": [
        {
          "output_type": "stream",
          "name": "stdout",
          "text": [
            "Episódio: 0\n",
            "Episódio: 50\n",
            "Episódio: 100\n",
            "Episódio: 150\n",
            "Episódio: 200\n",
            "Episódio: 250\n",
            "Episódio: 300\n",
            "Episódio: 350\n",
            "Episódio: 400\n",
            "Episódio: 450\n",
            "Pontuação no tempo: 0.098\n",
            "[[2.39552864e-01 2.29260624e-01 2.21471612e-01 2.38244601e-01]\n",
            " [5.00865409e-03 6.22835670e-02 1.06427284e-01 2.21066113e-01]\n",
            " [6.29579437e-02 2.03090629e-01 8.61450464e-02 9.92475242e-02]\n",
            " [2.30886667e-02 5.49117601e-03 8.43013340e-02 1.10447998e-01]\n",
            " [2.41272102e-01 2.02722795e-01 2.78664985e-01 7.20789324e-02]\n",
            " [0.00000000e+00 0.00000000e+00 0.00000000e+00 0.00000000e+00]\n",
            " [1.48926964e-02 1.34077615e-02 4.21853538e-01 5.04672293e-04]\n",
            " [0.00000000e+00 0.00000000e+00 0.00000000e+00 0.00000000e+00]\n",
            " [2.76705900e-01 2.67423756e-02 2.74424439e-02 2.98479230e-01]\n",
            " [1.29037131e-01 3.88859742e-01 5.86097182e-02 1.08679580e-01]\n",
            " [4.35504971e-01 4.32150912e-01 3.52689643e-01 4.44483460e-01]\n",
            " [0.00000000e+00 0.00000000e+00 0.00000000e+00 0.00000000e+00]\n",
            " [0.00000000e+00 0.00000000e+00 0.00000000e+00 0.00000000e+00]\n",
            " [5.16815861e-01 2.17806729e-01 5.86103870e-01 5.92147639e-01]\n",
            " [7.81334360e-01 6.78413574e-01 9.68027119e-01 6.50978770e-01]\n",
            " [0.00000000e+00 0.00000000e+00 0.00000000e+00 0.00000000e+00]]\n"
          ]
        }
      ]
    },
    {
      "cell_type": "code",
      "source": [
        "# [[2.39552864e-01 2.29260624e-01 2.21471612e-01 2.38244601e-01]\n",
        "#  [5.00865409e-03 6.22835670e-02 1.06427284e-01 2.21066113e-01]\n",
        "#  [6.29579437e-02 2.03090629e-01 8.61450464e-02 9.92475242e-02]\n",
        "#  [2.30886667e-02 5.49117601e-03 8.43013340e-02 1.10447998e-01]\n",
        "#  [2.41272102e-01 2.02722795e-01 2.78664985e-01 7.20789324e-02]\n",
        "#  [0.00000000e+00 0.00000000e+00 0.00000000e+00 0.00000000e+00]\n",
        "#  [1.48926964e-02 1.34077615e-02 4.21853538e-01 5.04672293e-04]\n",
        "#  [0.00000000e+00 0.00000000e+00 0.00000000e+00 0.00000000e+00]\n",
        "#  [2.76705900e-01 2.67423756e-02 2.74424439e-02 2.98479230e-01]\n",
        "#  [1.29037131e-01 3.88859742e-01 5.86097182e-02 1.08679580e-01]\n",
        "#  [4.35504971e-01 4.32150912e-01 3.52689643e-01 4.44483460e-01]\n",
        "#  [0.00000000e+00 0.00000000e+00 0.00000000e+00 0.00000000e+00]\n",
        "#  [0.00000000e+00 0.00000000e+00 0.00000000e+00 0.00000000e+00]\n",
        "#  [5.16815861e-01 2.17806729e-01 5.86103870e-01 5.92147639e-01]\n",
        "#  [7.81334360e-01 6.78413574e-01 9.68027119e-01 6.50978770e-01]\n",
        "#  [0.00000000e+00 0.00000000e+00 0.00000000e+00 0.00000000e+00]]"
      ],
      "metadata": {
        "id": "RSDtusi0ismZ"
      },
      "execution_count": 12,
      "outputs": []
    },
    {
      "metadata": {
        "id": "R5czk9qTBQIU"
      },
      "cell_type": "markdown",
      "source": [
        "## Etapa 5: Jogando (e vencendo!?) FrozenLake!\n",
        "\n",
        "- Após 500 episódios, nossa tabela Q pode ser usada como uma \"mapa da mina\" para jogar *FrozenLake*\n",
        "- Ao executar este celular você poderá ver nosso agente jogando FrozenLake."
      ]
    },
    {
      "metadata": {
        "id": "Bt8UsREaBNkJ"
      },
      "cell_type": "code",
      "source": [
        "for episode in range(5):\n",
        "    state, info = env.reset()\n",
        "    state = int(state)\n",
        "    step = 0\n",
        "    done = False\n",
        "    max_steps = 100\n",
        "    print(\"****************************************************\")\n",
        "    print(\"EPISODIO \", episode)\n",
        "\n",
        "    for step in range(max_steps):\n",
        "\n",
        "        # Take the action (index) that have the maximum expected future reward given that state\n",
        "        action = np.argmax(qtable[state,:])\n",
        "\n",
        "        new_state, reward, terminated, truncated, _ = env.step(action)\n",
        "\n",
        "        done = terminated or truncated\n",
        "        clear_output(wait=True)\n",
        "        print(env.render())\n",
        "        time.sleep(1)\n",
        "        if done:\n",
        "            # Here, we decide to only print the last state (to see if our agent is on the goal or fall into an hole)\n",
        "            if new_state == 15:\n",
        "                print(\"Chegamos no Objetivo!\")\n",
        "            else:\n",
        "                print(\"Caímos em um Obstáculo!\")\n",
        "\n",
        "            # We print the number of step it took.\n",
        "            print(\"Número de passos\", step)\n",
        "            time.sleep(5)\n",
        "            break\n",
        "        state = int(new_state)\n",
        "env.close()"
      ],
      "execution_count": null,
      "outputs": []
    },
    {
      "cell_type": "code",
      "source": [],
      "metadata": {
        "id": "yDPP65Lbiy8u"
      },
      "execution_count": null,
      "outputs": []
    }
  ]
}